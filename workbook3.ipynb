{
 "cells": [
  {
   "cell_type": "code",
   "execution_count": null,
   "metadata": {
    "collapsed": true
   },
   "outputs": [],
   "source": []
  },
  {
   "cell_type": "code",
   "execution_count": 6,
   "outputs": [
    {
     "name": "stdout",
     "output_type": "stream",
     "text": [
      "set up complete\n"
     ]
    }
   ],
   "source": [
    "from math import cos, exp, pi, tanh, sqrt\n",
    "from scipy.integrate import quad, dblquad\n",
    "from scipy.misc import derivative\n",
    "import numpy as np\n",
    "import matplotlib.pyplot as plt\n",
    "from mpl_toolkits.mplot3d import Axes3D\n",
    "from scipy.interpolate import griddata\n",
    "\n",
    "def phi(x):\n",
    "    #we choose what our activation function is going to be here\n",
    "    return tanh(x)\n",
    "\n",
    "def normDist(z):\n",
    "    #this is for the intergral measures\n",
    "    return (1/sqrt(2*pi))*exp(-(z**2)/2)\n",
    "\n",
    "def qSSnext(sigmaW, sigmaB, qSSprev):\n",
    "    #gives us the length of our vector given our parameters and the previous length\n",
    "    def f(z):\n",
    "        return (phi(sqrt(qSSprev)*z)**2) * normDist(z)\n",
    "\n",
    "    range = 10\n",
    "    intergral = quad(f, -range, range)\n",
    "    return (sigmaW**2) * intergral[0] + (sigmaB**2)\n",
    "\n",
    "\n",
    "def qSSstar(sigmaW, sigmaB, qSSprev):\n",
    "    #works out the limiting length of the vector given the previous length and the parameters\n",
    "    #we're assume the limit is reached within 30 steps\n",
    "    qSStemp = qSSprev\n",
    "    for i in range(30):\n",
    "        qSStemp = qSSnext(sigmaW, sigmaB, qSStemp)\n",
    "\n",
    "    return qSStemp\n",
    "\n",
    "def qAB_next(sigmaW, sigmaB, qAA_prev, qBB_prev, corr_prev):\n",
    "    #this is for calculating the joint correlation\n",
    "    #we dont have to assume the vector lengths qAA qBB have reached their limit -\n",
    "    # but turns out that we will actually just input the limited qAA to make our results input independent\n",
    "\n",
    "    def u1(z1):\n",
    "        return sqrt(qAA_prev)*z1\n",
    "\n",
    "    def u2(z1, z2):\n",
    "        return sqrt(qBB_prev)*(corr_prev*z1 + sqrt(1- corr_prev**2)*z2)\n",
    "\n",
    "    def f(z1, z2):\n",
    "        return phi(u1(z1))*phi(u2(z1, z2))*normDist(z1)*normDist(z2)\n",
    "\n",
    "    range = 10\n",
    "    intergral = dblquad(f, -range, range, -range, range)\n",
    "\n",
    "    return (sigmaW**2) * intergral[0] + (sigmaB**2)\n",
    "\n",
    "\n",
    "def corr_map(sigmaW, sigmaB, corr_prev):\n",
    "    #so we get the the new correlation, given a correlation, the only other things\n",
    "    #that matter are the sigmas, since we just use the convergent length, that only depends on sigmaW sigmaB\n",
    "\n",
    "    some_random_length = 10 # doesn't make a difference as qSSstar limits to same value\n",
    "    qSSstar_val = qSSstar(sigmaW, sigmaB, some_random_length)\n",
    "\n",
    "    q_AB = qAB_next(sigmaW, sigmaB, qSSstar_val, qSSstar_val, corr_prev)\n",
    "\n",
    "    return (q_AB / qSSstar_val)\n",
    "\n",
    "#this numpy move lets us apply the correlation map element wise to a vector\n",
    "corr_map_vec = np.vectorize(corr_map, excluded=['sigmaW', 'sigmaB'])\n",
    "\n",
    "def corr_map_plot(sigmaW, sigmaB, steps = 0.025):\n",
    "    x = np.arange(0, 1, steps)\n",
    "    y = corr_map_vec(sigmaW, sigmaB, x)\n",
    "    plt.plot (x, y, 'bo')\n",
    "    plt.xlim([0, 1])\n",
    "    plt.ylim([0, 1])\n",
    "    plt.show()\n",
    "\n",
    "def deriv_cmap(sigmaW, sigmaB, deriv_point=1):\n",
    "    print(sigmaW, sigmaB)\n",
    "    #looking at (17) in Poole, this turns out to be very similar to the qAB function\n",
    "    some_random_length = 10 # doesn't make a difference as qSSstar limits to same value\n",
    "    qSSstar_val = qSSstar(sigmaW, sigmaB, some_random_length)\n",
    "\n",
    "    def u1(z1):\n",
    "        return sqrt(qSSstar_val)*z1\n",
    "\n",
    "    def u2(z1, z2):\n",
    "        return sqrt(qSSstar_val)*(deriv_point*z1 + sqrt(1- deriv_point**2)*z2)\n",
    "\n",
    "    def deriv_phi(x0):\n",
    "        return derivative(phi, x0, dx = 0.01)\n",
    "\n",
    "    def f(z1, z2):\n",
    "        return deriv_phi(u1(z1))*deriv_phi(u2(z1, z2))*normDist(z1)*normDist(z2)\n",
    "\n",
    "    range = 10\n",
    "    intergral = dblquad(f, -range, range, -range, range)\n",
    "\n",
    "    return (sigmaW**2) * intergral[0]\n",
    "\n",
    "\n",
    "print(\"set up complete\")"
   ],
   "metadata": {
    "collapsed": false,
    "pycharm": {
     "name": "#%%\n"
    }
   }
  },
  {
   "cell_type": "code",
   "execution_count": 7,
   "outputs": [
    {
     "data": {
      "text/plain": "<Figure size 432x288 with 1 Axes>",
      "image/png": "[encoded data removed]"
     },
     "metadata": {
      "needs_background": "light"
     },
     "output_type": "display_data"
    },
    {
     "name": "stdout",
     "output_type": "stream",
     "text": [
      "3.5 1\n"
     ]
    },
    {
     "data": {
      "text/plain": "1.9975104300523863"
     },
     "execution_count": 7,
     "metadata": {},
     "output_type": "execute_result"
    }
   ],
   "source": [
    "corr_map_plot(3.5, 1, steps = 0.025)\n",
    "deriv_cmap(3.5, 1, 1)"
   ],
   "metadata": {
    "collapsed": false,
    "pycharm": {
     "name": "#%%\n"
    }
   }
  },
  {
   "cell_type": "code",
   "execution_count": 8,
   "outputs": [
    {
     "data": {
      "text/plain": "<Figure size 432x288 with 1 Axes>",
      "image/png": "[encoded data removed]"
     },
     "metadata": {
      "needs_background": "light"
     },
     "output_type": "display_data"
    },
    {
     "name": "stdout",
     "output_type": "stream",
     "text": [
      "2 1\n"
     ]
    },
    {
     "data": {
      "text/plain": "1.0962779549562987"
     },
     "execution_count": 8,
     "metadata": {},
     "output_type": "execute_result"
    }
   ],
   "source": [
    "corr_map_plot(2, 1, steps = 0.025)\n",
    "deriv_cmap(2, 1, 1)"
   ],
   "metadata": {
    "collapsed": false,
    "pycharm": {
     "name": "#%%\n"
    }
   }
  },
  {
   "cell_type": "code",
   "execution_count": null,
   "outputs": [],
   "source": [],
   "metadata": {
    "collapsed": false,
    "pycharm": {
     "name": "#%%\n"
    }
   }
  }
 ],
 "metadata": {
  "kernelspec": {
   "name": "pycharm-64a6ae6c",
   "language": "python",
   "display_name": "PyCharm (node_importance)"
  },
  "language_info": {
   "codemirror_mode": {
    "name": "ipython",
    "version": 2
   },
   "file_extension": ".py",
   "mimetype": "text/x-python",
   "name": "python",
   "nbconvert_exporter": "python",
   "pygments_lexer": "ipython2",
   "version": "2.7.6"
  }
 },
 "nbformat": 4,
 "nbformat_minor": 0
}