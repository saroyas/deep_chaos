{
 "cells": [
  {
   "cell_type": "code",
   "execution_count": 25,
   "metadata": {
    "collapsed": true,
    "pycharm": {
     "name": "#%%\n"
    }
   },
   "outputs": [
    {
     "name": "stdout",
     "output_type": "stream",
     "text": [
      "set up complete\n"
     ]
    }
   ],
   "source": [
    "from math import cos, exp, pi, tanh, sqrt\n",
    "from scipy.integrate import quad, dblquad\n",
    "from scipy.misc import derivative\n",
    "import numpy as np\n",
    "import matplotlib.pyplot as plt\n",
    "from mpl_toolkits.mplot3d import Axes3D\n",
    "from scipy.interpolate import griddata\n",
    "\n",
    "def phi(x):\n",
    "    #we choose what our activation function is going to be here\n",
    "    return tanh(x)\n",
    "\n",
    "def normDist(z):\n",
    "    #this is for the intergral measures\n",
    "    return (1/sqrt(2*pi))*exp(-(z**2)/2)\n",
    "\n",
    "def qSSnext(sigmaW, sigmaB, qSSprev):\n",
    "    #gives us the length of our vector given our parameters and the previous length\n",
    "    def f(z):\n",
    "        return (phi(sqrt(qSSprev)*z)**2) * normDist(z)\n",
    "\n",
    "    range = 10\n",
    "    intergral = quad(f, -range, range)\n",
    "    return (sigmaW**2) * intergral[0] + (sigmaB**2)\n",
    "\n",
    "\n",
    "def qSSstar(sigmaW, sigmaB, qSSprev):\n",
    "    #works out the limiting length of the vector given the previous length and the parameters\n",
    "    #we're assume the limit is reached within 30 steps\n",
    "    qSStemp = qSSprev\n",
    "    for i in range(30):\n",
    "        qSStemp = qSSnext(sigmaW, sigmaB, qSStemp)\n",
    "\n",
    "    return qSStemp\n",
    "\n",
    "def qAB_next(sigmaW, sigmaB, qAA_prev, qBB_prev, corr_prev):\n",
    "    #this is for calculating the joint correlation\n",
    "    #we dont have to assume the vector lengths qAA qBB have reached their limit -\n",
    "    # but turns out that we will actually just input the limited qAA to make our results input independent\n",
    "\n",
    "    def u1(z1):\n",
    "        return sqrt(qAA_prev)*z1\n",
    "\n",
    "    def u2(z1, z2):\n",
    "        return sqrt(qBB_prev)*(corr_prev*z1 + sqrt(1- corr_prev**2)*z2)\n",
    "\n",
    "    def f(z1, z2):\n",
    "        return phi(u1(z1))*phi(u2(z1, z2))*normDist(z1)*normDist(z2)\n",
    "\n",
    "    range = 10\n",
    "    intergral = dblquad(f, -range, range, -range, range)\n",
    "\n",
    "    return (sigmaW**2) * intergral[0] + (sigmaB**2)\n",
    "\n",
    "\n",
    "def corr_map(sigmaW, sigmaB, corr_prev):\n",
    "    #so we get the the new correlation, given a correlation, the only other things\n",
    "    #that matter are the sigmas, since we just use the convergent length, that only depends on sigmaW sigmaB\n",
    "\n",
    "    some_random_length = 10 # doesn't make a difference as qSSstar limits to same value\n",
    "    qSSstar_val = qSSstar(sigmaW, sigmaB, some_random_length)\n",
    "\n",
    "    q_AB = qAB_next(sigmaW, sigmaB, qSSstar_val, qSSstar_val, corr_prev)\n",
    "\n",
    "    return (q_AB / qSSstar_val)\n",
    "\n",
    "#this numpy move lets us apply the correlation map element wise to a vector\n",
    "corr_map_vec = np.vectorize(corr_map, excluded=['sigmaW', 'sigmaB'])\n",
    "\n",
    "def corr_map_plot(sigmaW, sigmaB, steps = 0.025):\n",
    "    x = np.arange(0, 1, steps)\n",
    "    y = corr_map_vec(sigmaW, sigmaB, x)\n",
    "    plt.plot (x, y, 'bo')\n",
    "    plt.xlim([0, 1])\n",
    "    plt.ylim([0, 1])\n",
    "    plt.show()\n",
    "\n",
    "print(\"set up complete\")"
   ]
  },
  {
   "cell_type": "code",
   "execution_count": 33,
   "outputs": [],
   "source": [
    "# we want to calculate the derivative of the correlation map\n",
    "# we're going to first focus on just the derivative at the point 1\n",
    "# but later, in the drop-out case, we will need to think more deeply as 1 wont be a fix point\n",
    "\n",
    "def deriv_cmap(sigmaW, sigmaB, deriv_point=1):\n",
    "    print(sigmaW, sigmaB)\n",
    "    #looking at (17) in Poole, this turns out to be very similar to the qAB function\n",
    "    some_random_length = 10 # doesn't make a difference as qSSstar limits to same value\n",
    "    qSSstar_val = qSSstar(sigmaW, sigmaB, some_random_length)\n",
    "\n",
    "    def u1(z1):\n",
    "        return sqrt(qSSstar_val)*z1\n",
    "\n",
    "    def u2(z1, z2):\n",
    "        return sqrt(qSSstar_val)*(deriv_point*z1 + sqrt(1- deriv_point**2)*z2)\n",
    "\n",
    "    def deriv_phi(x0):\n",
    "        return derivative(phi, x0, dx = 0.01)\n",
    "\n",
    "    def f(z1, z2):\n",
    "        return deriv_phi(u1(z1))*deriv_phi(u2(z1, z2))*normDist(z1)*normDist(z2)\n",
    "\n",
    "    range = 10\n",
    "    intergral = dblquad(f, -range, range, -range, range)\n",
    "\n",
    "    return (sigmaW**2) * intergral[0]"
   ],
   "metadata": {
    "collapsed": false,
    "pycharm": {
     "name": "#%%\n"
    }
   }
  },
  {
   "cell_type": "code",
   "execution_count": 34,
   "outputs": [
    {
     "data": {
      "text/plain": "<Figure size 432x288 with 1 Axes>",
      "image/png": "[encoded data removed]"
     },
     "metadata": {
      "needs_background": "light"
     },
     "output_type": "display_data"
    },
    {
     "name": "stdout",
     "output_type": "stream",
     "text": [
      "3 4\n"
     ]
    },
    {
     "data": {
      "text/plain": "0.9799000895560948"
     },
     "execution_count": 34,
     "metadata": {},
     "output_type": "execute_result"
    }
   ],
   "source": [
    "corr_map_plot(3, 4, steps = 0.025)\n",
    "deriv_cmap(3, 4, 1)"
   ],
   "metadata": {
    "collapsed": false,
    "pycharm": {
     "name": "#%%\n"
    }
   }
  },
  {
   "cell_type": "code",
   "execution_count": 36,
   "outputs": [
    {
     "name": "stdout",
     "output_type": "stream",
     "text": [
      "0.001 0.001\n",
      "0.001 0.001\n",
      "0.44533333333333336 0.001\n",
      "0.8896666666666667 0.001\n",
      "1.334 0.001\n",
      "1.7783333333333333 0.001\n",
      "2.2226666666666666 0.001\n",
      "2.6670000000000003 0.001\n",
      "3.1113333333333335 0.001\n",
      "3.5556666666666668 0.001\n",
      "4.0 0.001\n",
      "0.001 0.44533333333333336\n",
      "0.44533333333333336 0.44533333333333336\n",
      "0.8896666666666667 0.44533333333333336\n",
      "1.334 0.44533333333333336\n",
      "1.7783333333333333 0.44533333333333336\n",
      "2.2226666666666666 0.44533333333333336\n",
      "2.6670000000000003 0.44533333333333336\n",
      "3.1113333333333335 0.44533333333333336\n",
      "3.5556666666666668 0.44533333333333336\n",
      "4.0 0.44533333333333336\n",
      "0.001 0.8896666666666667\n",
      "0.44533333333333336 0.8896666666666667\n",
      "0.8896666666666667 0.8896666666666667\n",
      "1.334 0.8896666666666667\n",
      "1.7783333333333333 0.8896666666666667\n",
      "2.2226666666666666 0.8896666666666667\n",
      "2.6670000000000003 0.8896666666666667\n",
      "3.1113333333333335 0.8896666666666667\n",
      "3.5556666666666668 0.8896666666666667\n",
      "4.0 0.8896666666666667\n",
      "0.001 1.334\n",
      "0.44533333333333336 1.334\n",
      "0.8896666666666667 1.334\n",
      "1.334 1.334\n",
      "1.7783333333333333 1.334\n",
      "2.2226666666666666 1.334\n",
      "2.6670000000000003 1.334\n",
      "3.1113333333333335 1.334\n",
      "3.5556666666666668 1.334\n",
      "4.0 1.334\n",
      "0.001 1.7783333333333333\n",
      "0.44533333333333336 1.7783333333333333\n",
      "0.8896666666666667 1.7783333333333333\n",
      "1.334 1.7783333333333333\n",
      "1.7783333333333333 1.7783333333333333\n",
      "2.2226666666666666 1.7783333333333333\n",
      "2.6670000000000003 1.7783333333333333\n",
      "3.1113333333333335 1.7783333333333333\n",
      "3.5556666666666668 1.7783333333333333\n",
      "4.0 1.7783333333333333\n",
      "0.001 2.2226666666666666\n",
      "0.44533333333333336 2.2226666666666666\n",
      "0.8896666666666667 2.2226666666666666\n",
      "1.334 2.2226666666666666\n",
      "1.7783333333333333 2.2226666666666666\n",
      "2.2226666666666666 2.2226666666666666\n",
      "2.6670000000000003 2.2226666666666666\n",
      "3.1113333333333335 2.2226666666666666\n",
      "3.5556666666666668 2.2226666666666666\n",
      "4.0 2.2226666666666666\n",
      "0.001 2.6670000000000003\n",
      "0.44533333333333336 2.6670000000000003\n",
      "0.8896666666666667 2.6670000000000003\n",
      "1.334 2.6670000000000003\n",
      "1.7783333333333333 2.6670000000000003\n",
      "2.2226666666666666 2.6670000000000003\n",
      "2.6670000000000003 2.6670000000000003\n",
      "3.1113333333333335 2.6670000000000003\n",
      "3.5556666666666668 2.6670000000000003\n",
      "4.0 2.6670000000000003\n",
      "0.001 3.1113333333333335\n",
      "0.44533333333333336 3.1113333333333335\n",
      "0.8896666666666667 3.1113333333333335\n",
      "1.334 3.1113333333333335\n",
      "1.7783333333333333 3.1113333333333335\n",
      "2.2226666666666666 3.1113333333333335\n",
      "2.6670000000000003 3.1113333333333335\n",
      "3.1113333333333335 3.1113333333333335\n",
      "3.5556666666666668 3.1113333333333335\n",
      "4.0 3.1113333333333335\n",
      "0.001 3.5556666666666668\n",
      "0.44533333333333336 3.5556666666666668\n",
      "0.8896666666666667 3.5556666666666668\n",
      "1.334 3.5556666666666668\n",
      "1.7783333333333333 3.5556666666666668\n",
      "2.2226666666666666 3.5556666666666668\n",
      "2.6670000000000003 3.5556666666666668\n",
      "3.1113333333333335 3.5556666666666668\n",
      "3.5556666666666668 3.5556666666666668\n",
      "4.0 3.5556666666666668\n",
      "0.001 4.0\n",
      "0.44533333333333336 4.0\n",
      "0.8896666666666667 4.0\n",
      "1.334 4.0\n",
      "1.7783333333333333 4.0\n",
      "2.2226666666666666 4.0\n",
      "2.6670000000000003 4.0\n",
      "3.1113333333333335 4.0\n",
      "3.5556666666666668 4.0\n",
      "4.0 4.0\n"
     ]
    }
   ],
   "source": [
    "sigmaW_range = np.linspace(0.001, 4, 10)\n",
    "sigmaB_range = np.linspace(0.001, 4, 10)\n",
    "X, Y = np.meshgrid(sigmaW_range, sigmaB_range)\n",
    "\n",
    "deriv_cmap_vec = np.vectorize(deriv_cmap, excluded = [\"deriv_point\"])\n",
    "Z = deriv_cmap_vec(X, Y, deriv_point = 1)"
   ],
   "metadata": {
    "collapsed": false,
    "pycharm": {
     "name": "#%%\n"
    }
   }
  },
  {
   "cell_type": "code",
   "execution_count": 59,
   "outputs": [
    {
     "data": {
      "text/plain": "<Figure size 432x288 with 1 Axes>",
      "image/png": "[encoded data removed]"
     },
     "metadata": {
      "needs_background": "light"
     },
     "output_type": "display_data"
    }
   ],
   "source": [
    "fig = plt.figure()\n",
    "ax = plt.axes(projection='3d')\n",
    "ax.contour3D(X, Y, Z, 50)\n",
    "ax.set_xlabel('sigmaW')\n",
    "ax.set_ylabel('sigmaB')\n",
    "ax.set_zlabel('distance')\n",
    "\n",
    "xx, yy = np.meshgrid(range(0,5, 1), range(0,5,1))\n",
    "zz = xx*0 + yy*0 + 1\n",
    "\n",
    "ax.plot_surface(xx, yy, zz, alpha=0.5, color=\"red\")\n",
    "\n",
    "ax.view_init(90, -90)"
   ],
   "metadata": {
    "collapsed": false,
    "pycharm": {
     "name": "#%%\n"
    }
   }
  },
  {
   "cell_type": "code",
   "execution_count": 60,
   "outputs": [
    {
     "data": {
      "text/plain": "array([[9.99931337e-07, 1.98308062e-01, 7.91274745e-01, 1.07602768e+00,\n        1.25960931e+00, 1.46989866e+00, 1.69072238e+00, 1.91678749e+00,\n        2.14583440e+00, 2.37673624e+00],\n       [7.55207123e-07, 1.44916180e-01, 5.08569465e-01, 8.79988674e-01,\n        1.16320045e+00, 1.41106855e+00, 1.64959706e+00, 1.88554452e+00,\n        2.12078195e+00, 2.35588604e+00],\n       [5.06776314e-07, 9.73038250e-02, 3.51735052e-01, 6.74024663e-01,\n        9.89146382e-01, 1.27733836e+00, 1.54551596e+00, 1.80190861e+00,\n        2.05151160e+00, 2.29706061e+00],\n       [3.67472468e-07, 7.11782814e-02, 2.65136869e-01, 5.35295750e-01,\n        8.33107836e-01, 1.12924896e+00, 1.41400713e+00, 1.68728058e+00,\n        1.95153444e+00, 2.20920096e+00],\n       [2.85103451e-07, 5.55925024e-02, 2.11220914e-01, 4.39780521e-01,\n        7.09397477e-01, 9.94653219e-01, 1.28080194e+00, 1.56162214e+00,\n        1.83558264e+00, 2.10310711e+00],\n       [2.31925681e-07, 4.54249908e-02, 1.74822117e-01, 3.71201144e-01,\n        6.12940238e-01, 8.80065229e-01, 1.15795749e+00, 1.43781249e+00,\n        1.71522205e+00, 1.98845034e+00],\n       [1.95094500e-07, 3.83256096e-02, 1.48772819e-01, 3.20073637e-01,\n        5.37073148e-01, 7.84415195e-01, 1.04925464e+00, 1.32234994e+00,\n        1.59784255e+00, 1.87242863e+00],\n       [1.68192866e-07, 3.31092420e-02, 1.29291931e-01, 2.80733028e-01,\n        4.76489700e-01, 7.04745599e-01, 9.54709899e-01, 1.21770552e+00,\n        1.48743690e+00, 1.75971644e+00],\n       [1.47729218e-07, 2.91238468e-02, 1.14215552e-01, 2.49653731e-01,\n        4.27325925e-01, 6.38057786e-01, 8.72934244e-01, 1.12421289e+00,\n        1.38574391e+00, 1.65298808e+00],\n       [1.31660801e-07, 2.59842177e-02, 1.02224352e-01, 2.24552892e-01,\n        3.86814660e-01, 5.81802070e-01, 8.02180619e-01, 1.04121041e+00,\n        1.29317489e+00, 1.55353177e+00]])"
     },
     "execution_count": 60,
     "metadata": {},
     "output_type": "execute_result"
    }
   ],
   "source": [
    "Z"
   ],
   "metadata": {
    "collapsed": false,
    "pycharm": {
     "name": "#%%\n"
    }
   }
  },
  {
   "cell_type": "code",
   "execution_count": null,
   "outputs": [],
   "source": [],
   "metadata": {
    "collapsed": false,
    "pycharm": {
     "name": "#%%\n"
    }
   }
  }
 ],
 "metadata": {
  "kernelspec": {
   "name": "pycharm-64a6ae6c",
   "language": "python",
   "display_name": "PyCharm (node_importance)"
  },
  "language_info": {
   "codemirror_mode": {
    "name": "ipython",
    "version": 2
   },
   "file_extension": ".py",
   "mimetype": "text/x-python",
   "name": "python",
   "nbconvert_exporter": "python",
   "pygments_lexer": "ipython2",
   "version": "2.7.6"
  }
 },
 "nbformat": 4,
 "nbformat_minor": 0
}