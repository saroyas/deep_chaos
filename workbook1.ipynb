{
 "cells": [
  {
   "cell_type": "code",
   "execution_count": 10,
   "metadata": {
    "collapsed": true
   },
   "outputs": [],
   "source": [
    "from math import cos, exp, pi, tanh, sqrt\n",
    "from scipy.integrate import quad, dblquad\n",
    "import numpy as np\n",
    "import matplotlib.pyplot as plt\n",
    "from mpl_toolkits.mplot3d import Axes3D\n",
    "from scipy.interpolate import griddata"
   ]
  },
  {
   "cell_type": "code",
   "execution_count": 2,
   "outputs": [],
   "source": [
    "def phi(x):\n",
    "    #we choose what our activation function is going to be here\n",
    "    return tanh(x)\n",
    "\n",
    "def normDist(z):\n",
    "    #this is for the intergral measures\n",
    "    return (1/sqrt(2*pi))*exp(-(z**2)/2)\n",
    "\n",
    "def qSSnext(sigmaW, sigmaB, qSSprev):\n",
    "    #gives us the length of our vector given our parameters and the previous length\n",
    "    def f(z):\n",
    "        return (phi(sqrt(qSSprev)*z)**2) * normDist(z)\n",
    "\n",
    "    range = 10\n",
    "    intergral = quad(f, -range, range)\n",
    "    return (sigmaW**2) * intergral[0] + (sigmaB**2)\n",
    "\n",
    "\n",
    "def qSSstar(sigmaW, sigmaB, qSSprev):\n",
    "    #works out the limiting length of the vector given the previous length and the parameters\n",
    "    #we're assume the limit is reached within 30 steps\n",
    "    qSStemp = qSSprev\n",
    "    for i in range(30):\n",
    "        qSStemp = qSSnext(sigmaW, sigmaB, qSStemp)\n",
    "\n",
    "    return qSStemp\n"
   ],
   "metadata": {
    "collapsed": false,
    "pycharm": {
     "name": "#%%\n"
    }
   }
  },
  {
   "cell_type": "code",
   "execution_count": 3,
   "outputs": [],
   "source": [
    "def qAB_next(sigmaW, sigmaB, qAA_prev, qBB_prev, corr_prev):\n",
    "    #this is for calculating the joint correlation\n",
    "    #we dont have to assume the vector lengths qAA qBB have reached their limit -\n",
    "    # but turns out that we will actually just input the limited qAA to make our results input independent\n",
    "\n",
    "    def u1(z1):\n",
    "        return sqrt(qAA_prev)*z1\n",
    "\n",
    "    def u2(z1, z2):\n",
    "        return sqrt(qBB_prev)*(corr_prev*z1 + sqrt(1- corr_prev**2)*z2)\n",
    "\n",
    "    def f(z1, z2):\n",
    "        return phi(u1(z1))*phi(u2(z1, z2))*normDist(z1)*normDist(z2)\n",
    "\n",
    "    range = 10\n",
    "    intergral = dblquad(f, -range, range, -range, range)\n",
    "\n",
    "    return (sigmaW**2) * intergral[0] + (sigmaB**2)\n",
    "\n",
    "\n",
    "def corr_map(sigmaW, sigmaB, corr_prev):\n",
    "\n",
    "    some_random_length = 10 # doesn't make a difference as qSSstar limits to same value\n",
    "    qSSstar_val = qSSstar(sigmaW, sigmaB, some_random_length)\n",
    "\n",
    "    q_AB = qAB_next(sigmaW, sigmaB, qSSstar_val, qSSstar_val, corr_prev)\n",
    "\n",
    "    return (q_AB / qSSstar_val)\n",
    "\n",
    "corr_map_vec = np.vectorize(corr_map, excluded=['sigmaW', 'sigmaB'])"
   ],
   "metadata": {
    "collapsed": false,
    "pycharm": {
     "name": "#%%\n"
    }
   }
  },
  {
   "cell_type": "code",
   "execution_count": 4,
   "outputs": [
    {
     "data": {
      "text/plain": "0.007140505594240438"
     },
     "execution_count": 4,
     "metadata": {},
     "output_type": "execute_result"
    }
   ],
   "source": [
    "sigmaW = 4\n",
    "sigmaB = 0.3\n",
    "\n",
    "corr_map(sigmaW, sigmaB, 0)"
   ],
   "metadata": {
    "collapsed": false,
    "pycharm": {
     "name": "#%%\n"
    }
   }
  },
  {
   "cell_type": "code",
   "execution_count": 5,
   "outputs": [
    {
     "data": {
      "text/plain": "<Figure size 432x288 with 1 Axes>",
      "image/png": "[encoded data removed]"
     },
     "metadata": {
      "needs_background": "light"
     },
     "output_type": "display_data"
    }
   ],
   "source": [
    "x = np.arange(0, 1, 0.025)\n",
    "y = corr_map_vec(sigmaW, sigmaB, x)\n",
    "\n",
    "plt.plot (x, y, 'bo')\n",
    "plt.show()"
   ],
   "metadata": {
    "collapsed": false,
    "pycharm": {
     "name": "#%%\n"
    }
   }
  },
  {
   "cell_type": "code",
   "execution_count": 6,
   "outputs": [],
   "source": [
    "def sum_diff_corr(sigmaW, sigmaB):\n",
    "    # we have 40 evenly spaced points\n",
    "    x = np.arange(0, 1, 0.025)\n",
    "    y = corr_map_vec(sigmaW, sigmaB, x)\n",
    "    return np.sum(np.absolute(np.subtract(x, y)))\n",
    "\n",
    "def int_diff_corr(sigmaW, sigmaB):\n",
    "\n",
    "    def f(x):\n",
    "        return abs(corr_map(sigmaW, sigmaB, x)-x)\n",
    "\n",
    "    return quad(f, 0, 1)"
   ],
   "metadata": {
    "collapsed": false,
    "pycharm": {
     "name": "#%%\n"
    }
   }
  },
  {
   "cell_type": "code",
   "execution_count": 7,
   "outputs": [
    {
     "name": "stdout",
     "output_type": "stream",
     "text": [
      "0.001 0.001\n",
      "0.001 0.401\n",
      "0.001 0.801\n",
      "0.001 1.201\n",
      "0.001 1.601\n",
      "0.001 2.001\n",
      "0.001 2.4010000000000002\n",
      "0.001 2.801\n",
      "0.001 3.201\n",
      "0.001 3.601\n",
      "0.401 0.001\n",
      "0.401 0.401\n",
      "0.401 0.801\n",
      "0.401 1.201\n",
      "0.401 1.601\n",
      "0.401 2.001\n",
      "0.401 2.4010000000000002\n",
      "0.401 2.801\n",
      "0.401 3.201\n",
      "0.401 3.601\n",
      "0.801 0.001\n",
      "0.801 0.401\n",
      "0.801 0.801\n",
      "0.801 1.201\n",
      "0.801 1.601\n",
      "0.801 2.001\n",
      "0.801 2.4010000000000002\n",
      "0.801 2.801\n",
      "0.801 3.201\n",
      "0.801 3.601\n",
      "1.201 0.001\n",
      "1.201 0.401\n",
      "1.201 0.801\n",
      "1.201 1.201\n",
      "1.201 1.601\n",
      "1.201 2.001\n",
      "1.201 2.4010000000000002\n",
      "1.201 2.801\n",
      "1.201 3.201\n",
      "1.201 3.601\n",
      "1.601 0.001\n",
      "1.601 0.401\n",
      "1.601 0.801\n",
      "1.601 1.201\n",
      "1.601 1.601\n",
      "1.601 2.001\n",
      "1.601 2.4010000000000002\n",
      "1.601 2.801\n",
      "1.601 3.201\n",
      "1.601 3.601\n",
      "2.001 0.001\n",
      "2.001 0.401\n",
      "2.001 0.801\n",
      "2.001 1.201\n",
      "2.001 1.601\n",
      "2.001 2.001\n",
      "2.001 2.4010000000000002\n",
      "2.001 2.801\n",
      "2.001 3.201\n",
      "2.001 3.601\n",
      "2.4010000000000002 0.001\n",
      "2.4010000000000002 0.401\n",
      "2.4010000000000002 0.801\n",
      "2.4010000000000002 1.201\n",
      "2.4010000000000002 1.601\n",
      "2.4010000000000002 2.001\n",
      "2.4010000000000002 2.4010000000000002\n",
      "2.4010000000000002 2.801\n",
      "2.4010000000000002 3.201\n",
      "2.4010000000000002 3.601\n",
      "2.801 0.001\n",
      "2.801 0.401\n",
      "2.801 0.801\n",
      "2.801 1.201\n",
      "2.801 1.601\n",
      "2.801 2.001\n",
      "2.801 2.4010000000000002\n",
      "2.801 2.801\n",
      "2.801 3.201\n",
      "2.801 3.601\n",
      "3.201 0.001\n",
      "3.201 0.401\n",
      "3.201 0.801\n",
      "3.201 1.201\n",
      "3.201 1.601\n",
      "3.201 2.001\n",
      "3.201 2.4010000000000002\n",
      "3.201 2.801\n",
      "3.201 3.201\n",
      "3.201 3.601\n",
      "3.601 0.001\n",
      "3.601 0.401\n",
      "3.601 0.801\n",
      "3.601 1.201\n",
      "3.601 1.601\n",
      "3.601 2.001\n",
      "3.601 2.4010000000000002\n",
      "3.601 2.801\n",
      "3.601 3.201\n",
      "3.601 3.601\n"
     ]
    }
   ],
   "source": [
    "sigmaW_range = np.arange(0.001, 4, 0.4)\n",
    "sigmaB_range = np.arange(0.001, 4, 0.4)\n",
    "\n",
    "data = []\n",
    "for sigmaW in sigmaW_range:\n",
    "    for sigmaB in sigmaB_range:\n",
    "        data = data + [(sigmaW, sigmaB, sum_diff_corr(sigmaW, sigmaB))]\n",
    "        print(sigmaW, sigmaB)\n"
   ],
   "metadata": {
    "collapsed": false,
    "pycharm": {
     "name": "#%%\n"
    }
   }
  },
  {
   "cell_type": "code",
   "execution_count": 25,
   "outputs": [
    {
     "data": {
      "text/plain": "array([[20.4999795 ],\n       [20.49998408],\n       [20.49998968],\n       [20.49999312],\n       [20.49999517],\n       [20.49999644],\n       [20.49999728],\n       [20.49999786],\n       [20.49999827],\n       [20.49999858],\n       [17.20358736],\n       [18.00952367],\n       [18.89723862],\n       [19.42605081],\n       [19.74068818],\n       [19.93825478],\n       [20.06902821],\n       [20.15955885],\n       [20.22460834],\n       [20.27281956],\n       [ 5.84982059],\n       [11.60500802],\n       [14.77105134],\n       [16.57438034],\n       [17.66965694],\n       [18.37509835],\n       [18.85206561],\n       [19.18776477],\n       [19.43207129],\n       [19.61493647],\n       [ 0.16240334],\n       [ 5.17154872],\n       [ 9.86785926],\n       [12.84834235],\n       [14.79473969],\n       [16.11419073],\n       [17.04002639],\n       [17.70980941],\n       [18.20747921],\n       [18.58599328],\n       [ 0.76105722],\n       [ 1.78105353],\n       [ 5.83593223],\n       [ 9.20903639],\n       [11.70678397],\n       [13.5337209 ],\n       [14.88340929],\n       [15.89671038],\n       [16.67078713],\n       [17.27219045],\n       [ 1.33048026],\n       [ 1.03787126],\n       [ 3.15964783],\n       [ 6.20316432],\n       [ 8.85028962],\n       [10.96462582],\n       [12.62384275],\n       [13.92514605],\n       [14.95239104],\n       [15.77096255],\n       [ 1.80380187],\n       [ 1.32816709],\n       [ 1.95575606],\n       [ 4.03760013],\n       [ 6.4444949 ],\n       [ 8.62019002],\n       [10.44544458],\n       [11.9448842 ],\n       [13.17137848],\n       [14.17633997],\n       [ 2.1905335 ],\n       [ 1.75844676],\n       [ 1.67923854],\n       [ 2.80381577],\n       [ 4.64776688],\n       [ 6.63033133],\n       [ 8.46421889],\n       [10.06225075],\n       [11.42176532],\n       [12.56831439],\n       [ 2.50831419],\n       [ 2.14779119],\n       [ 1.78970762],\n       [ 2.24766514],\n       [ 3.48040989],\n       [ 5.09751538],\n       [ 6.77944478],\n       [ 8.35901745],\n       [ 9.77222073],\n       [11.00753123],\n       [ 2.77239887],\n       [ 2.47623274],\n       [ 2.03102336],\n       [ 2.08616277],\n       [ 2.81095047],\n       [ 4.01590045],\n       [ 5.4431559 ],\n       [ 6.90142929],\n       [ 8.28563493],\n       [ 9.54940608]])"
     },
     "execution_count": 25,
     "metadata": {},
     "output_type": "execute_result"
    }
   ],
   "source": [
    "x, y, z = zip(*data)\n",
    "\n",
    "from mpl_toolkits.mplot3d import Axes3D\n",
    "\n",
    "np.array(list(z)).reshape(100, 1)"
   ],
   "metadata": {
    "collapsed": false,
    "pycharm": {
     "name": "#%%\n"
    }
   }
  },
  {
   "cell_type": "code",
   "execution_count": 43,
   "outputs": [
    {
     "data": {
      "text/plain": "<Figure size 432x288 with 1 Axes>",
      "image/png": "[encoded data removed]"
     },
     "metadata": {
      "needs_background": "light"
     },
     "output_type": "display_data"
    }
   ],
   "source": [
    "fig = plt.figure()\n",
    "ax = Axes3D(fig)\n",
    "ax.scatter(np.array(list(x)), np.array(list(y)), np.array(list(z)).reshape(100, 1), c = np.array(list(z)).reshape(100, 1))\n",
    "ax.view_init(0, 180)\n",
    "plt.draw()"
   ],
   "metadata": {
    "collapsed": false,
    "pycharm": {
     "name": "#%%\n"
    }
   }
  },
  {
   "cell_type": "code",
   "execution_count": null,
   "outputs": [],
   "source": [],
   "metadata": {
    "collapsed": false,
    "pycharm": {
     "name": "#%%\n"
    }
   }
  }
 ],
 "metadata": {
  "kernelspec": {
   "name": "pycharm-64a6ae6c",
   "language": "python",
   "display_name": "PyCharm (node_importance)"
  },
  "language_info": {
   "codemirror_mode": {
    "name": "ipython",
    "version": 2
   },
   "file_extension": ".py",
   "mimetype": "text/x-python",
   "name": "python",
   "nbconvert_exporter": "python",
   "pygments_lexer": "ipython2",
   "version": "2.7.6"
  }
 },
 "nbformat": 4,
 "nbformat_minor": 0
}