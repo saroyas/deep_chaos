{
 "cells": [
  {
   "cell_type": "code",
   "execution_count": 7,
   "metadata": {
    "collapsed": true
   },
   "outputs": [],
   "source": [
    "from math import cos, exp, pi, tanh, sqrt\n",
    "from scipy.integrate import quad"
   ]
  },
  {
   "cell_type": "code",
   "execution_count": 8,
   "outputs": [],
   "source": [
    "def phi(x):\n",
    "    return tanh(x)\n",
    "\n",
    "def normDist(z):\n",
    "    return (1/sqrt(2*pi))*exp(-(z**2)/2)\n"
   ],
   "metadata": {
    "collapsed": false,
    "pycharm": {
     "name": "#%%\n"
    }
   }
  },
  {
   "cell_type": "code",
   "execution_count": 20,
   "outputs": [],
   "source": [
    "def qSSnext(sigmaW, sigmaB, qAAprev):\n",
    "\n",
    "    def f(z):\n",
    "        return (phi(sqrt(qAAprev)*z)**2) * normDist(z)\n",
    "\n",
    "    intergral = quad(f, -15, 15)\n",
    "    return (sigmaW**2) * intergral[0] + (sigmaB**2)\n",
    "\n",
    "\n",
    "def qSSstar(sigmaW, sigmaB, qAAfrst):\n",
    "    qAAtemp = qAAfrst\n",
    "    for i in range(30):\n",
    "        qAAtemp = qAAnext(sigmaW, sigmaB, qAAtemp)\n",
    "\n",
    "    return qAAtemp"
   ],
   "metadata": {
    "collapsed": false,
    "pycharm": {
     "name": "#%%\n"
    }
   }
  },
  {
   "cell_type": "code",
   "execution_count": 19,
   "outputs": [
    {
     "data": {
      "text/plain": "12.604149497844299"
     },
     "execution_count": 19,
     "metadata": {},
     "output_type": "execute_result"
    }
   ],
   "source": [
    "def qAB_next(sigmaW, sigmaB, qAA_prev, qBB_prev, c_prev):\n",
    "    "
   ],
   "metadata": {
    "collapsed": false,
    "pycharm": {
     "name": "#%%\n"
    }
   }
  },
  {
   "cell_type": "code",
   "execution_count": null,
   "outputs": [],
   "source": [],
   "metadata": {
    "collapsed": false,
    "pycharm": {
     "name": "#%%\n"
    }
   }
  }
 ],
 "metadata": {
  "kernelspec": {
   "name": "pycharm-64a6ae6c",
   "language": "python",
   "display_name": "PyCharm (node_importance)"
  },
  "language_info": {
   "codemirror_mode": {
    "name": "ipython",
    "version": 2
   },
   "file_extension": ".py",
   "mimetype": "text/x-python",
   "name": "python",
   "nbconvert_exporter": "python",
   "pygments_lexer": "ipython2",
   "version": "2.7.6"
  }
 },
 "nbformat": 4,
 "nbformat_minor": 0
}