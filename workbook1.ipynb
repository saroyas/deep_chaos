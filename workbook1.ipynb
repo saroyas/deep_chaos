{
 "cells": [
  {
   "cell_type": "code",
   "execution_count": 13,
   "metadata": {
    "collapsed": true
   },
   "outputs": [],
   "source": [
    "from math import cos, exp, pi, tanh, sqrt\n",
    "from scipy.integrate import quad, dblquad\n",
    "import numpy as np\n",
    "import matplotlib.pyplot as plt"
   ]
  },
  {
   "cell_type": "code",
   "execution_count": 2,
   "outputs": [],
   "source": [
    "def phi(x):\n",
    "    #we choose what our activation function is going to be here\n",
    "    return tanh(x)\n",
    "\n",
    "def normDist(z):\n",
    "    #this is for the intergral measures\n",
    "    return (1/sqrt(2*pi))*exp(-(z**2)/2)\n",
    "\n",
    "def qSSnext(sigmaW, sigmaB, qSSprev):\n",
    "    #gives us the length of our vector given our parameters and the previous length\n",
    "    def f(z):\n",
    "        return (phi(sqrt(qSSprev)*z)**2) * normDist(z)\n",
    "\n",
    "    intergral = quad(f, -15, 15)\n",
    "    return (sigmaW**2) * intergral[0] + (sigmaB**2)\n",
    "\n",
    "\n",
    "def qSSstar(sigmaW, sigmaB, qSSprev):\n",
    "    #works out the limiting length of the vector given the previous length and the parameters\n",
    "    #we're assume the limit is reached within 30 steps\n",
    "    qSStemp = qSSprev\n",
    "    for i in range(30):\n",
    "        qSStemp = qSSnext(sigmaW, sigmaB, qSStemp)\n",
    "\n",
    "    return qSStemp\n"
   ],
   "metadata": {
    "collapsed": false,
    "pycharm": {
     "name": "#%%\n"
    }
   }
  },
  {
   "cell_type": "code",
   "execution_count": 36,
   "outputs": [],
   "source": [
    "def qAB_next(sigmaW, sigmaB, qAA_prev, qBB_prev, corr_prev):\n",
    "    #this is for calculating the joint correlation\n",
    "    #we dont have to assume the vector lengths qAA qBB have reached their limit -\n",
    "    # but turns out that we will actually just input the limited qAA to make our results input independent\n",
    "\n",
    "    def u1(z1):\n",
    "        return sqrt(qAA_prev)*z1\n",
    "\n",
    "    def u2(z1, z2):\n",
    "        return sqrt(qBB_prev)*(corr_prev*z1 + sqrt(1- corr_prev**2)*z2)\n",
    "\n",
    "    def f(z1, z2):\n",
    "        return phi(u1(z1))*phi(u2(z1, z2))*normDist(z1)*normDist(z2)\n",
    "\n",
    "    intergral = dblquad(f, 0, 15, 0, 15)\n",
    "\n",
    "    return (sigmaW**2) * intergral[0] + (sigmaB**2)\n",
    "\n",
    "\n",
    "def corr_map(sigmaW, sigmaB, corr_prev):\n",
    "\n",
    "    some_random_length = 10 # doesn't make a difference as qSSstar limits to same value\n",
    "    qSSstar_val = qSSstar(sigmaW, sigmaB, some_random_length)\n",
    "\n",
    "    q_AB = qAB_next(sigmaW, sigmaB, qSSstar_val, qSSstar_val, corr_prev)\n",
    "\n",
    "    return (q_AB / qSSstar_val)\n",
    "\n",
    "corr_map_vec = np.vectorize(corr_map, excluded=['sigmaW', 'sigmaB'])"
   ],
   "metadata": {
    "collapsed": false,
    "pycharm": {
     "name": "#%%\n"
    }
   }
  },
  {
   "cell_type": "code",
   "execution_count": 38,
   "outputs": [
    {
     "data": {
      "text/plain": "0.2553553791973468"
     },
     "execution_count": 38,
     "metadata": {},
     "output_type": "execute_result"
    }
   ],
   "source": [
    "sigmaW = 4\n",
    "sigmaB = 0.3\n",
    "\n",
    "corr_map(sigmaW, sigmaB, 1)"
   ],
   "metadata": {
    "collapsed": false,
    "pycharm": {
     "name": "#%%\n"
    }
   }
  },
  {
   "cell_type": "code",
   "execution_count": null,
   "outputs": [],
   "source": [
    "x = np.arange(0, 1, 0.05)\n",
    "y = corr_map_vec(sigmaW, sigmaB, x)\n",
    "\n",
    "plt.plot (x, y, 'bo')\n",
    "plt.show()"
   ],
   "metadata": {
    "collapsed": false,
    "pycharm": {
     "name": "#%%\n"
    }
   }
  },
  {
   "cell_type": "code",
   "execution_count": 17,
   "outputs": [],
   "source": [],
   "metadata": {
    "collapsed": false,
    "pycharm": {
     "name": "#%%\n"
    }
   }
  },
  {
   "cell_type": "code",
   "execution_count": null,
   "outputs": [],
   "source": [],
   "metadata": {
    "collapsed": false,
    "pycharm": {
     "name": "#%%\n"
    }
   }
  }
 ],
 "metadata": {
  "kernelspec": {
   "name": "pycharm-64a6ae6c",
   "language": "python",
   "display_name": "PyCharm (node_importance)"
  },
  "language_info": {
   "codemirror_mode": {
    "name": "ipython",
    "version": 2
   },
   "file_extension": ".py",
   "mimetype": "text/x-python",
   "name": "python",
   "nbconvert_exporter": "python",
   "pygments_lexer": "ipython2",
   "version": "2.7.6"
  }
 },
 "nbformat": 4,
 "nbformat_minor": 0
}