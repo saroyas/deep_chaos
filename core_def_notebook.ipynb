{
 "cells": [
  {
   "cell_type": "code",
   "execution_count": 1,
   "metadata": {
    "collapsed": true
   },
   "outputs": [],
   "source": [
    "from math import cos, exp, pi, tanh, sqrt\n",
    "from scipy.integrate import quad, dblquad\n",
    "from scipy.misc import derivative\n",
    "import numpy as np\n",
    "import matplotlib.pyplot as plt\n",
    "from matplotlib.pyplot import figure\n",
    "\n",
    "from scipy import optimize # a commented out line as we ended u pdefining our own fix point function.\n",
    "from mpl_toolkits.mplot3d import Axes3D\n",
    "from scipy.interpolate import griddata"
   ]
  },
  {
   "cell_type": "code",
   "execution_count": 2,
   "outputs": [],
   "source": [
    "#we need to set phi outside of here, since it's a parameter that we want to have flexible.\n",
    "def phi(x):\n",
    "    #we choose what our activation function is going to be here\n",
    "    return tanh(x)\n"
   ],
   "metadata": {
    "collapsed": false,
    "pycharm": {
     "name": "#%%\n"
    }
   }
  },
  {
   "cell_type": "code",
   "execution_count": 3,
   "outputs": [],
   "source": [
    "def normDist(z):\n",
    "    #this is for the intergral measures\n",
    "    return (1/sqrt(2*pi))*exp(-(z**2)/2)\n",
    "\n",
    "def qSSnext(sigmaW, sigmaB, dropout, qSSprev, integral_range = 10):\n",
    "    #gives us the length of our vector given our parameters and the previous length\n",
    "    # the integral range is about the range we numerically evaluate over\n",
    "    # since our measure is the normal distribution, 10 covers like 2 standard dists, so prob good enough\n",
    "    def f(z):\n",
    "        return (phi(sqrt(qSSprev)*z)**2) * normDist(z)\n",
    "\n",
    "    intergral = quad(f, -integral_range, integral_range)\n",
    "    return (1/dropout)*(sigmaW**2) * intergral[0] + (sigmaB**2)\n",
    "\n",
    "def qSSstar(sigmaW, sigmaB, dropout, qSSprev, steps_till_convergence = 100):\n",
    "    #works out the limiting length of the vector given the previous length and the parameters\n",
    "    #we're generally assuming the limit is reached within 100 steps\n",
    "    qSStemp = qSSprev\n",
    "    for i in range(steps_till_convergence):\n",
    "        qSStemp = qSSnext(sigmaW, sigmaB, dropout, qSStemp)\n",
    "\n",
    "    return qSStemp\n",
    "\n",
    "def qAB_next(sigmaW, sigmaB, qAA_prev, qBB_prev, corr_prev, integral_range = 10):\n",
    "    #this is for calculating the joint correlation\n",
    "    #we dont have to assume the vector lengths qAA qBB have reached their limit -\n",
    "    # but turns out that we will actually just input the limited qSSstar to make our results input independent\n",
    "    # intergral range set at 10, cus we use normal distribution measure, and that gives us 3 s.d\n",
    "    def u1(z1):\n",
    "        return sqrt(qAA_prev)*z1\n",
    "\n",
    "    def u2(z1, z2):\n",
    "        return sqrt(qBB_prev)*(corr_prev*z1 + sqrt(1- corr_prev**2)*z2)\n",
    "\n",
    "    def f(z1, z2):\n",
    "        #maybe should get rid of this try except thing\n",
    "        try:\n",
    "            return phi(u1(z1))*phi(u2(z1, z2))*normDist(z1)*normDist(z2)\n",
    "        except:\n",
    "            print(\"something up went wrong\")\n",
    "\n",
    "    intergral = dblquad(f, -integral_range, integral_range, -integral_range, integral_range)\n",
    "\n",
    "    return (sigmaW**2) * intergral[0] + (sigmaB**2)\n"
   ],
   "metadata": {
    "collapsed": false,
    "pycharm": {
     "name": "#%%\n"
    }
   }
  },
  {
   "cell_type": "code",
   "execution_count": 4,
   "outputs": [],
   "source": [
    "def corr_map(sigmaW, sigmaB, dropout, corr_prev):\n",
    "    #so we get the the new correlation, given a correlation, the only other things\n",
    "    #that matter are the sigmas, since we just use the convergent length, that only depends on sigmaW sigmaB and dropout\n",
    "\n",
    "    some_random_length = 10 # doesn't make a difference as qSSstar limits to same value, hopefully?!\n",
    "    qSSstar_val = qSSstar(sigmaW, sigmaB, dropout, some_random_length)\n",
    "\n",
    "    q_AB = qAB_next(sigmaW, sigmaB, qSSstar_val, qSSstar_val, corr_prev)\n",
    "\n",
    "    return (q_AB / qSSstar_val)\n",
    "\n",
    "\n",
    "def corr_map_plot(sigmaW, sigmaB, dropout, steps = 0.025):\n",
    "    figure(figsize=(20, 20), dpi=80)\n",
    "    x = np.arange(0, 1, steps)\n",
    "\n",
    "    corr_map_vec = np.vectorize(corr_map, excluded=['sigmaW', 'sigmaB', 'dropout'])\n",
    "    y = corr_map_vec(sigmaW, sigmaB, dropout, x)\n",
    "\n",
    "    plt.plot (x, y, 'bo')\n",
    "    plt.xlim([0, 1])\n",
    "    plt.ylim([0, 1])\n",
    "    plt.show()"
   ],
   "metadata": {
    "collapsed": false,
    "pycharm": {
     "name": "#%%\n"
    }
   }
  },
  {
   "cell_type": "code",
   "execution_count": 5,
   "outputs": [],
   "source": [
    "def int_diff_corr(sigmaW, sigmaB, dropout):\n",
    "    #we intergrate from 0 to 1 the absolute difference from identity map\n",
    "\n",
    "    def f(x):\n",
    "        return abs(corr_map(sigmaW, sigmaB, dropout, x)-x)\n",
    "\n",
    "    return quad(f, 0, 1)\n",
    "\n",
    "def plot_int_diff_cor(dropout, resolution = 15, sigma_W_start = 0.001, sigma_W_end = 4, sigma_b_start = 0.001, sigma_b_end = 4):\n",
    "    sigmaW_range = np.linspace(sigma_W_start, sigma_W_end, resolution)\n",
    "    sigmaB_range = np.linspace(sigma_b_start, sigma_b_end, resolution)\n",
    "    X, Y = np.meshgrid(sigmaW_range, sigmaB_range)\n",
    "\n",
    "    sum_diff_corr_vec = np.vectorize(int_diff_corr, excluded=\"dropout\")\n",
    "    Z = sum_diff_corr_vec(X, Y, dropout)\n",
    "\n",
    "\n",
    "    plt.figure()\n",
    "    ax = plt.axes(projection='3d')\n",
    "    ax.contour3D(X, Y, Z, 50)\n",
    "\n",
    "    ax.set_xlabel('sigmaW')\n",
    "    ax.set_ylabel('sigmaB')\n",
    "    ax.set_zlabel('distance')\n",
    "    ax.view_init(90, -90)\n",
    "    plt.show()"
   ],
   "metadata": {
    "collapsed": false,
    "pycharm": {
     "name": "#%%\n"
    }
   }
  },
  {
   "cell_type": "code",
   "execution_count": 6,
   "outputs": [],
   "source": [
    "def find_fix_points_corr(sigmaW, sigmaB, dropout, start_val = 0.5):\n",
    "    #goes to the stable fix point, (note: this isn't 1 in the chaotic regine even with no dropout)\n",
    "    def fixed_point(f, guess, epsilon=10**(-5), n=100):\n",
    "        itr=0\n",
    "        test=f(guess)\n",
    "        try:\n",
    "            if (abs(test-guess)<epsilon):\n",
    "                return(test)\n",
    "        except:\n",
    "            print(test, guess)\n",
    "\n",
    "\n",
    "        while ((n>itr) and (abs(test-guess)>=epsilon)):\n",
    "            itr+=1\n",
    "            guess = test\n",
    "            test = f(test)\n",
    "\n",
    "            try:\n",
    "                if ((abs(test-guess))<epsilon):\n",
    "                  return(test)\n",
    "            except:\n",
    "                print(guess)\n",
    "\n",
    "        return test\n",
    "\n",
    "    def corr_map_alt(corr_prev_param):\n",
    "        #just a definitional convenience, so that we have a function only depending on corr_prev_param\n",
    "        return corr_map(sigmaW, sigmaB, dropout, corr_prev_param)\n",
    "\n",
    "    #return optimize.fixed_point(corr_map_alt, [0.5])[0]\n",
    "    return fixed_point(corr_map_alt, start_val, epsilon=10**(-5), n=2000)\n",
    "\n",
    "\n",
    "def deriv_cmap_at_fix_point(sigmaW, sigmaB, dropout):\n",
    "    print(sigmaW, sigmaB)\n",
    "    fix_point = find_fix_points_corr(sigmaW, sigmaB, dropout, start_val = 0.99)\n",
    "    if round(fix_point, 3) != round(find_fix_points_corr(sigmaW, sigmaB, dropout, start_val = 0.01), 3):\n",
    "        print(\"different converge fix points!\", fix_point, find_fix_points_corr(sigmaW, sigmaB, dropout, start_val = 0.01))\n",
    "\n",
    "    def corr_map_alt(corr_prev_param):\n",
    "        return corr_map(sigmaW, sigmaB, dropout, corr_prev_param)\n",
    "\n",
    "    if fix_point-0.01 < 0:\n",
    "        return (corr_map_alt(fix_point+0.001) - corr_map_alt(fix_point))/0.001\n",
    "    elif fix_point + 0.01 > 1 :\n",
    "        return (corr_map_alt(fix_point) - corr_map_alt(fix_point-0.001))/0.001\n",
    "    else:\n",
    "        return derivative(corr_map_alt, fix_point, 0.001)"
   ],
   "metadata": {
    "collapsed": false,
    "pycharm": {
     "name": "#%%\n"
    }
   }
  },
  {
   "cell_type": "code",
   "execution_count": 7,
   "outputs": [],
   "source": [
    "def plot_deriv_corr(dropout, heightline = False, view_angle = (90, -90), resolution = 15, sigma_W_start = 0.001, sigma_W_end = 4, sigma_b_start = 0.001, sigma_b_end = 4):\n",
    "    sigmaW_range = np.linspace(sigma_W_start, sigma_W_end, resolution)\n",
    "    sigmaB_range = np.linspace(sigma_b_start, sigma_b_end, resolution)\n",
    "    X, Y = np.meshgrid(sigmaW_range, sigmaB_range)\n",
    "\n",
    "    deriv_cmap_vec = np.vectorize(deriv_cmap_at_fix_point, excluded = [\"dropout\"])\n",
    "    Z = deriv_cmap_vec(X, Y, dropout = 1)\n",
    "\n",
    "    #%%\n",
    "\n",
    "    fig = plt.figure()\n",
    "    ax = plt.axes(projection='3d')\n",
    "    ax.contour3D(X, Y, Z, 50)\n",
    "    ax.set_xlabel('sigmaW')\n",
    "    ax.set_ylabel('sigmaB')\n",
    "    ax.set_zlabel('deriv at conv fix point')\n",
    "\n",
    "    if heightline != False:\n",
    "        xx, yy = np.meshgrid(range(0,5, 1), range(0,5,1))\n",
    "        zz = xx*0 + yy*0 + heightline\n",
    "\n",
    "        ax.plot_surface(xx, yy, zz, alpha=0.5, color=\"red\")\n",
    "\n",
    "    ax.view_init(view_angle[0], view_angle[1])\n",
    "    plt.show()\n"
   ],
   "metadata": {
    "collapsed": false,
    "pycharm": {
     "name": "#%%\n"
    }
   }
  },
  {
   "cell_type": "code",
   "execution_count": 8,
   "outputs": [],
   "source": [
    "def plot_fix_point_diff_dropout(sigmaW, sigmaB, resolution = 50):\n",
    "    deriv_cmap_vec = np.vectorize(find_fix_points_corr, excluded = [\"sigmaW\", \"sigmaB\", \"start_val\"])\n",
    "\n",
    "    dropout_range = np.linspace(0.01, 1, resolution)\n",
    "    fix_points = deriv_cmap_vec(sigmaW, sigmaB, dropout = dropout_range, start_val = 0.5)\n",
    "\n",
    "    plt.plot (dropout_range, fix_points, 'bo', c=\"red\")\n",
    "    plt.xlim([0, 1])\n",
    "    plt.xlabel(\"dropout (what percentage left)\")\n",
    "    plt.ylim([0, 1])\n",
    "    plt.ylabel(\"Fix point (sigmaW = \",sigmaW,\" ; sigmaB = \", sigmaB,\")\")\n",
    "\n"
   ],
   "metadata": {
    "collapsed": false,
    "pycharm": {
     "name": "#%%\n"
    }
   }
  },
  {
   "cell_type": "code",
   "execution_count": null,
   "outputs": [],
   "source": [],
   "metadata": {
    "collapsed": false,
    "pycharm": {
     "name": "#%%\n"
    }
   }
  }
 ],
 "metadata": {
  "kernelspec": {
   "name": "pycharm-64a6ae6c",
   "language": "python",
   "display_name": "PyCharm (node_importance)"
  },
  "language_info": {
   "codemirror_mode": {
    "name": "ipython",
    "version": 2
   },
   "file_extension": ".py",
   "mimetype": "text/x-python",
   "name": "python",
   "nbconvert_exporter": "python",
   "pygments_lexer": "ipython2",
   "version": "2.7.6"
  }
 },
 "nbformat": 4,
 "nbformat_minor": 0
}